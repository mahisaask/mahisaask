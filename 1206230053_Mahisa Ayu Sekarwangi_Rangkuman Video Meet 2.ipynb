{
 "cells": [
  {
   "cell_type": "markdown",
   "id": "4194f7e6-77b0-46ef-ba83-8ade63ccf09c",
   "metadata": {},
   "source": [
    "### Nama : Mahisa Ayu Sekarwangi\n",
    "### NIM\t: 1206230053\n",
    "### Kelas : DS-03-02\n",
    "\n",
    "\n",
    "### Tugas Meet 2\n",
    "\n",
    "## Simple Search and Binar Search (VIDEO 1)\n",
    "Chapter 01 : Introduction to Algorithms\n",
    "\n",
    "    Algoritma bisa didefinisikan sebagai sekumpulan instruksi untuk menyelesaikan suatu task atau tugas tertentu. Implementasi dari algoritma dapat useless/tidak berguna kalau kita tidak memahami trade off (plus minus antar algoritma).\n",
    "\n",
    "1. Binary Search :\n",
    "    \n",
    "    Dalam masalah pencarian suatu kata dalam dictionary (contoh studi kasus) dapat menggunakan solusi berupa Binary Search. Binary Search merupakan suatu algoritma dimana inputan dari algoritma ini adalah suatu list yang berisi elemen terurut. Ketika elemen yang kita cari ada dalam suatu list yang terurut, maka Binary Search akan mengembalikan posisi dari kata tadi, namun jika kata tidak ditemukan maka akan mengembalikan nilai kosong atau null.\n",
    "    \n",
    "    *Contoh studi kasus* : Saya memikirkan suatu angka diantara 1 sampai 100, kamu harus mencoba untuk menebak angka yang saya pilih dengan jumlah tebakan sesedikit mungkin. Untuk setiap tebakan yang saya berikan, saya akan beritahu angka tersebut terlalu tinggi, terlalu rendah atau tepat.\n",
    "\n",
    "2. Simple Search Way :\n",
    "\n",
    "    Anda akan menebak angka urut dari yang terkecil hingga angka terakhir yang mendekati atau ditemukan.\n",
    "    \n",
    "3. A Better Way to Search :\n",
    "\n",
    "    Anda akan pilih nomor 50 (karena nilai tengah), jika angka 50 lebih rendah maka akan diberitahu “too low”, maka nilai 50 kebawah telah hilang. Lalu menebak lagi nilai 75 (nilai tengah), jika 75 terlalu tinggi maka akan muncul “too high”, maka angka 75 ke atas telah hilang. Maka selanjutnya adalah angka antara 50 hingga 75. Angka selanjutnya akan dicari hingga ketemu dengan memilih nilai tengah, lalu menebaknya seperti cara di atas yang diulang-ulang.\n",
    "\n",
    "4. Binary Search Performance Explained :\n",
    "    \n",
    "    *Contoh Studi Kasus* : Mencari kata dalam dictionary dan di dalam dictionary tersebut terdapat 240.000 kata. Untuk kondisi terburuk, berapa banyak langkah ketika kita menggunakan Simple Search dan Binary Search? Jika kita menggunakan Simple Search maka langkah yang kita gunakan terdapat 240.000 kata. Jika menggunakan Binary Search, maka pada tebakan pertamanya kita telah mengeliminasi 120.000 kata, tebakan berikutnya 60.000 kata, tebakan selanjutnya 30.000 kata, dan seterusnya. Karena ditiap tebakan, Binary Search akan mengeliminasi setengah dari jumlah yang dimiliki. Dalam Binary Search terdapat hanya 18 langkah yang digunakan pada kasus ini. \n",
    "    Secara umum untuk elemen sejumlah n, jika pada Binary Search akan membutuhkan log2 n, namun pada Simple Search akan membutuhkan n pencarian.\n",
    "\n",
    "5. Logaritma : \n",
    "\n",
    "    Log merupakan kebalikan dari perpangkatan, contohnya Log basis 10 dari 1000 adalah 3, Log 2 dari 8 adalah 3. Ketika kita melakukan pencarian elemen menggunakan Simple Search, maka pada kondisi terburuk, kita harus melakukan pengecekkan pada semua elemen. Sedangkan pada Binary Search, pada kondisi terburuk, kita hanya melakukan pencarian dengan log n elemen.\n",
    "    \n",
    "    *Contoh* : untuk list dari 1024 elemen, maka kita menggunakan pancarian Binary Search, kita hanya memerluka 10 kali pencarian, karena log 1024 = 10, 210 == 1024.\n",
    "\n",
    "6. Binary Search in Python : \n",
    "\n",
    "    Indeksing, pada posisi pertama memiliki indeks 0, posisi kedua indeks 1, dan seterusnya. Akan terdapat suatu function dengan nama binary_search yang menerima dua parameter (sorted array, item yang dicari). Dan bilamana itemnya ada dalam list tadi, maka function akan mengembalikan poisis item dalam list tadi. Untuk tiap tahapan pencarian akan memantau dari arraynya. Indeks paling kiri adalah paling low, dan paling kanan adalah paling high : "
   ]
  },
  {
   "cell_type": "code",
   "execution_count": null,
   "id": "a860b3e5-4f0b-46ff-a3d2-cfd3c0be75b2",
   "metadata": {},
   "outputs": [],
   "source": [
    "low = 0\n",
    "high = len(list) - 1"
   ]
  },
  {
   "cell_type": "markdown",
   "id": "58e2a69c-f50d-4831-b36d-f4b95b7b8e2a",
   "metadata": {},
   "source": [
    "Dalam setiap iterasi, kita harus mengecek indeks/elemen pada posisi tengah dengan cara : "
   ]
  },
  {
   "cell_type": "code",
   "execution_count": null,
   "id": "1cae7ecf-d365-4867-9a29-a1a9e415ebf4",
   "metadata": {},
   "outputs": [],
   "source": [
    "mid = (low +high) / 2\n",
    "guess = list(mid)"
   ]
  },
  {
   "cell_type": "markdown",
   "id": "3f061b1b-1a03-4e46-acca-38ac65be121b",
   "metadata": {},
   "source": [
    "Jika hasil tebakkanmu terlalu rendah, maka nilai dari low indeksnya kita harus sesuaikan : "
   ]
  },
  {
   "cell_type": "code",
   "execution_count": null,
   "id": "5ab70b1e-e01d-4df1-952f-a4ea2785c525",
   "metadata": {},
   "outputs": [],
   "source": [
    "if guess < item : \n",
    "low = mid + 1"
   ]
  },
  {
   "cell_type": "markdown",
   "id": "ddbda9bd-35a0-4e16-8da3-647bb56c08b2",
   "metadata": {},
   "source": [
    "Jika hasil tebakkanmu terlalu rendah, maka harus update high indexing.\n",
    "\n",
    "Implementasi pada Phyton 3 : "
   ]
  },
  {
   "cell_type": "code",
   "execution_count": 9,
   "id": "009163af-5137-4858-902c-f61815368c98",
   "metadata": {
    "tags": []
   },
   "outputs": [
    {
     "name": "stdout",
     "output_type": "stream",
     "text": [
      "2\n",
      "None\n"
     ]
    }
   ],
   "source": [
    "def binary_search(list, item) : \n",
    "    low = 0 \n",
    "    high = len(list) - 1\n",
    "    \n",
    "    while low <= high :\n",
    "        mid = (low + high) // 2\n",
    "        guess = list[mid]\n",
    "        if guess == item : \n",
    "            return mid\n",
    "        if guess > item : \n",
    "            high = mid - 1\n",
    "        else : \n",
    "            low = mid + 1\n",
    "        return None\n",
    "\n",
    "my_list = [1, 3, 5, 7, 9]\n",
    "print(binary_search(my_list, 5)) \n",
    "print(binary_search(my_list, -1)) "
   ]
  },
  {
   "cell_type": "markdown",
   "id": "ed616bad-243d-4a98-97d5-bfa3a2bba6ac",
   "metadata": {},
   "source": [
    "## Running Time and Big O Nation (VIDEO 2)\n",
    "\n",
    "1. Running Time\n",
    "\n",
    "    Secara umum, kita memerlukan algoritma yang efisien (bisa dilihat dari waktu dan ukuran). \"So the maximum number of guess is the same as the size of the list. This is called Linear Time\". \n",
    "    Perbandingan dari Simple Search dan Binary Search berdasarkan Run Times for search algorithms :\n",
    "    - Pada Simple Search, jika terdapat 100 item, maka memerlukan 100 cara untuk menyelesaikannya. Sedangkan pada Binary Search, jika terdapat 100 item, maka hanya memerluka sebanyak 7 cara untuk menyelesaikannya.\n",
    "    - Pada Simple Search, jika terdapat 4.000.000.000 item, maka diperlukan 4.000.000.000 cara juga untuk menyelesaikannya. Sedangkan pada Binary Search, jika terdapat 4.000.000.000 item, maka hanya memerlukan 32 cara untuk menyelesaikannya.\n",
    "    Denagan kata lain, Simple Search ini menerapkan Linear Time *O(n)*, sedangkan Binary Search menerapkan Logarithmic Time *O(Log n)*."
   ]
  },
  {
   "cell_type": "markdown",
   "id": "ada8328d-3d50-4d4b-a64c-a1160fd522b3",
   "metadata": {},
   "source": [
    "2. Big O Notation\n",
    "\n",
    "    Big O Notation merupakan Special Notation atau Notasi Khusus yang kita gunakan untuk mendeskripsikan sebecara cepat suatu algoritma. \n",
    "    \n",
    "    \n",
    "    a. Algorithm Running Times Grow at DIfferent Rates\n",
    "        \n",
    "    - *Contoh studi kasus* : Ada seseorang bernama Bob, ia diminta menuliskan algoritma untuk NASA. ALgoritma ini digunakan pendaratan di bulan, algoritma ini digunakan untuk menentukan lokasi pendaratan. Bob hanya memiliki waktu 10 detik saja untuk kasus ini.\n",
    "        \n",
    "        Bob dihadapkan dengan dua algoritma, yakni Simple Search dan Binary Search. Asumsikan untuk mengecek 1 elemen membuthkan waktu sebanyak 1 milisekon, lalu berikutnya Bob melakukan kalkulasi untuk 100 elemen. \n",
    "        \n",
    "        Jika Bob menggunakan Simple Search maka akan dibutuhkan waktu sebanyak 100 milisekon untuk mengkalkulasikannya, sedangkan jika mengguanakan Binary Search hanya memerlukan pengecekkan pada 7 elemen dengan waktu 7 milisekon.\n",
    "        \n",
    "        Secara realistis elemen yang perlu dicari berkisar 1.000.000.000 elemen. Jika Bob menjalankan dengan Binary Search maka Bob hanya menggunakan waktu 30 milisekon. Karena Binary Search 15x lebih cepat dari Simple Search. Bob pun menggunakan Simple Search dikarenakan 30 milisekon x 15 = 450 milisekon, masih jauh dari batas 10 detik, apakah Bob memilih cara yang tepat?\n",
    "        \n",
    "        Salah, Bob salah besar! Dikarenakan jika menggunakan Simple Search pada 1.000.000.000 items apakan memerlukan 11 hari. Ternyata Run Times dari Binary dan Simple Search ternyata mereka berdua tidak tumbuh/berkembang dengan rate/kecepatan yang sama.\n",
    "        \n",
    "    - Seiring dengan peningkatan jumlah item, maka peningkatan jumlah waktu pada Binary Search akan jauh lebih sedikit dari Simple Search, atau dengan kata lain Binary Search jauh lebih cepat dari Simple Search. \n",
    "    \n",
    "    - Oleh karena itu, tidaklah cukup jika hanya tahu berapa lama suatu algoritma akan berjalan, kita butuh untuk mencari tahu bagaimana Running Timesnya akan meningkat saat ukurannya juga meningkat. Oleh karena itu Big O Notation akan relevan jika kita membandingkan antar algoritma.\n",
    "    \n",
    "    b. Big O Notation Explained\n",
    "    \n",
    "    - Big O Notation ini mengekspresikan suatu kecepatan dari suatu algoritma. *Cntoh* : Jika memiliki suatu list dengan ukuran *n*, maka memerlukan pengecekkan tiap elemen, dan akan menjadi n operasi. Run Time dari Big O Notationnya yaitu menjadi *O(n)*.\n",
    "        \n",
    "    - Big O Notation tidak mengekspresikan kecepatan suatu algoritma dalam satuan seken/detik, namun memungkinkan untuk membandingkan jumlah operasi. Dimana akan mengekspresikan kecepatan suatu algoritma berkembang (grow rate).\n",
    "    \n",
    "    - Binary Search membutuhkan sejumlah log n operasi untuk mengecek list dengan ukuran (n). Oleh karenannya Running Time Binary Reseach dengan Big O Nation adalah *O(Log n)*. Secara general, Big O Notation dituliskan dengan *O(n)*.\n",
    "    \n",
    "    - Ekspresi ini disebut dengan Big O Notation karena kita menempatkan sebuah huruf \"O\" besar sebelum kita menuliskan jumlah operasinya.\n",
    "    \n",
    "    c. Visualizing Diffrent Big O Run Times (Another Simple Case Study)\n",
    "    \n",
    "    - Contoh Studi Kasus : Terdapat 16 kotak berisi angka 1 sampai 16, algoritma apa yang baik untuk menggambarkan kondisi ini?\n",
    "    \n",
    "        - Algoritma 1 : Dengan menggambarkan manual satu persatu (1 operasi) selama 16 kali (16 operasi), berapa Running Time dengan algoritma ini? Tentunya Run Time algoritma ini Linier *O(n)* karena jumlah operations nya berbanding lurus dengan jumlah kotak yang digambarkan.\n",
    "        \n",
    "        - Algoritma 2 : Dengan menggambarkan kotak secara melipat kertas tersebut. Dengan pendekatan ini, melipat kertas 1 kali = 1 operasi, dalam 1 operasi menghasilkan 2 kotak. Pada lipatan ke 4, akan mendapatkan 16 grid yang diperlukan. Berapa Running Time untuk algoritma ini? *O(Log n)*\n",
    "        \n",
    "    d. Big O Establishes a Worst-Case Run Time\n",
    "    \n",
    "    *Contoh Studi Kasus* : Mencari seseorang pada buku telpon, mencari Adit. Namun, data Adit terdapat pada urutan pertama pada buku telpon, sehingga kalian tidak perlu untuk mencari semuanya. Apakah algoritma tersebut menggunakan *O(n)* time? ataukah justru *O(1)* time?\n",
    "    \n",
    "    -- Ternyata untuk kasus ini masih tetap *O(n)*, dikarenakan kalian menemukannya secara instan, itu merupakan the best case scenario. Sedangkan Big O Notation adalah tentang the worst case scenario. Dan jika katakanlah kasus tersebut terdapat pada the worst case scenario, maka kalian akan tetap mencarinya sampai habis (setiap entry pada buku telpon). Bisa digunakan suatu jaminan bahwa Simple Search tidak akan mungkin lebih lambat/buruk dari *O(n)* time.\n",
    "    \n",
    "    e. Some Common Big O Run Times\n",
    "    \n",
    "        Berikut adalah daftar Big O Notation yang umum ditemui (dari yang cepat ke lambat) :\n",
    "    \n",
    "    - *O(Log n)*, dikenal juga dengan long time. Contohnya yaitu Binary Search.\n",
    "    - *O(n)*, dikenal juga dengan linear time. Contohnya yaitu Simple Search.\n",
    "    - *O(n * Log n)*, contohnya yaitu Quicksort.\n",
    "    - *O(n^2)*, contohnya Selection Short.\n",
    "    - *O(n!)*, contohnya yaitu A really slow algorithm, like the traveling sales person.\n",
    "    \n",
    "        1. Andai kata kita membutuhkan untuk menggambarkan 16 kotak lagi, dan anda memilih dari 5 jenis algoritma untuk melakukannya. Untuk melakukan 10 operasi memerlukan waktu 1 detik. Jika kita memilih algoritma pertama, yang memiliki Run Time *O(Log n)* maka memerlukan sekitar 4 operasi untuk menggambar 16 kotak. Karena log 16 adalah 4, perlu diingat log menggunakan basis 2. Maka kita translasikan kita memerlukan waktu 0.4 detik, karena akan terdapat 4 operations, dimana disetiap detiknya kita dapat menghasilkan 10 operations.\n",
    "    \n",
    "            Pertanyaannya, bagaimana jika disuruh mengerjakan sebanyak 1024 kotak? Maka dapat dikalkulasikan log 1024 menjadi 10 operations, nah kita hanya memerlukan waktu sebanyak 1 detik saja.\n",
    "            \n",
    "        2. Algoritma yang kedua lebih lambat dikarenakan mengambil *O(n) time. Akan memerlukan 16 operasi untuk 16 kotak. Dan akan memerlukan 1024 operations untuk menggambar 1024 kotak. Berapa waktu yang diperlukan dalam detik? \n",
    "            \n",
    "            *untuk ilustrasi*, jika terdapat 16 kotak, maka diperlukan :\n",
    "            - *O(Log n)* = 0.4 detik\n",
    "            - *O(n)* = 1.6 detik\n",
    "            - *O(n * Log n)* = 6.4 detik\n",
    "            - *O(n^2)* = 25.6 detik\n",
    "            - *O(n!)* = 66301 tahun\n",
    "                \n",
    "     Sebenarnya Big O Notation tidak hanya terbatas pada 5 notasi ini, terdapat notas-notasi yang lain. Hanya saja 5 notasi ini merupakan notasi yang paling umum ditemui.\n",
    "                \n",
    "    Dan penggambaran dari contoh, merupakan bentuk penyederhanaan. Secara realitas plottingnya tidak akan serapi ini, ini hanya untuk mencoba menggambarkan perbedaan dari 5 Big O Notation tersebut.\n",
    "    \n",
    "    f. Big O Notation (RECAP)\n",
    "        \n",
    "    - Kecepatan alagoritma tidak diukur dalam satuan detik, berdasarkan diukur dari pertumbuhan dari jumlah operasinya (the growth of the number of operations).\n",
    "    - Atau dengan kata lain, kita ingin mencari tahu seberapa cepat peningkatan Run Time dari suatu algoritma seiring dengan meningkatnya jumlah input.\n",
    "    - Run Time dari suatu algoritma dinotasikan atau diekspresikan dengan Big O Notation.\n",
    "    - *O(Log n)* lebih cepat jika dibandingkan dari *O(n)*, perbedaan kecepatan akan makin signifikan seiring bertambahnya jumlah item."
   ]
  },
  {
   "cell_type": "markdown",
   "id": "ab674c1f-9486-4513-949d-3b1dba9dd132",
   "metadata": {},
   "source": []
  }
 ],
 "metadata": {
  "kernelspec": {
   "display_name": "Python 3 (ipykernel)",
   "language": "python",
   "name": "python3"
  },
  "language_info": {
   "codemirror_mode": {
    "name": "ipython",
    "version": 3
   },
   "file_extension": ".py",
   "mimetype": "text/x-python",
   "name": "python",
   "nbconvert_exporter": "python",
   "pygments_lexer": "ipython3",
   "version": "3.11.5"
  }
 },
 "nbformat": 4,
 "nbformat_minor": 5
}
